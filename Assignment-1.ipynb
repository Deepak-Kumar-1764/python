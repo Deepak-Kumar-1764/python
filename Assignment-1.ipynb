{
 "cells": [
  {
   "cell_type": "code",
   "execution_count": 3,
   "id": "04c720cf-e987-4d4a-bd8f-d854fd2f9aaa",
   "metadata": {},
   "outputs": [
    {
     "data": {
      "text/plain": [
       "'1. Who developed Python Programming Language?\\n      Guido van Rossum developed Python Programming Language.'"
      ]
     },
     "execution_count": 3,
     "metadata": {},
     "output_type": "execute_result"
    }
   ],
   "source": [
    "\"\"\"Q1. Who developed Python Programming Language?\n",
    "    Ans: Guido van Rossum developed Python Programming Language.\"\"\"\n"
   ]
  },
  {
   "cell_type": "code",
   "execution_count": 4,
   "id": "777129ae-0f80-4e46-8496-e6bd6b1f2002",
   "metadata": {},
   "outputs": [
    {
     "data": {
      "text/plain": [
       "'Which type of Programming does Python support?\\n   Python supports four main programming paradigms: imperative, functional, procedural, and object-oriented.'"
      ]
     },
     "execution_count": 4,
     "metadata": {},
     "output_type": "execute_result"
    }
   ],
   "source": [
    "\"\"\"Q2. Which type of Programming does Python support?\n",
    "   Ans: Python supports four main programming paradigms: imperative, functional, procedural, and object-oriented.\"\"\""
   ]
  },
  {
   "cell_type": "code",
   "execution_count": null,
   "id": "c17e2c69-b174-4fb1-b4d3-57e763be74ad",
   "metadata": {},
   "outputs": [],
   "source": [
    " \"\"\"Q3. Is Python case sensitive when dealing with identifiers?\n",
    "    Ans:Yes, Python is a case-sensitive language.You must avoid using the same name with \n",
    "    different cases while naming identifiers.\"\"\""
   ]
  },
  {
   "cell_type": "code",
   "execution_count": null,
   "id": "39f299a4-1af0-4f20-8bbf-7988a455e473",
   "metadata": {},
   "outputs": [],
   "source": [
    "\"\"\"Q4. What is the correct extension of the Python file?\n",
    "   Ans:The extensions for Python files are - . py, . pyi\"\"\""
   ]
  },
  {
   "cell_type": "code",
   "execution_count": null,
   "id": "9fa78bde-871e-4473-8c56-13286d5f501a",
   "metadata": {},
   "outputs": [],
   "source": [
    "\"\"\"Q5. Is Python code compiled or interpreted?\n",
    "    Yes! Python is an interpreted language\"\"\"\n"
   ]
  },
  {
   "cell_type": "code",
   "execution_count": null,
   "id": "9a05b3d9-99c9-4bb9-be0d-72b35c050588",
   "metadata": {},
   "outputs": [],
   "source": [
    "\"\"\"Q6 Name a few blocks of code used to define in Python language?\n",
    "   Ans:A Python program is constructed from code blocks.The following are blocks:\n",
    "   a module, a function body, and a class definition.\"\"\"\n"
   ]
  },
  {
   "cell_type": "code",
   "execution_count": null,
   "id": "c5c5a78f-e356-4923-b860-5595309e4734",
   "metadata": {},
   "outputs": [],
   "source": [
    "\"\"\"Q7: State a character used to give single-line comments in Python?\n",
    "   Ans: Hash character(#) is used to comment the line in the Python program\"\"\""
   ]
  },
  {
   "cell_type": "code",
   "execution_count": null,
   "id": "d7c03e01-8af2-4abc-a0f3-6f10dc9b7f18",
   "metadata": {},
   "outputs": [],
   "source": [
    "\"\"\"Q8. Mention functions which can help us to find the version of python that we are currently working on?\n",
    "   Ans: To get the Version of the python Interpreter, they are listed as follows:\n",
    "     Using sys. version method.\n",
    "     Using python_version() function.\n",
    "     Using Python -V command.\"\"\""
   ]
  },
  {
   "cell_type": "code",
   "execution_count": null,
   "id": "340dea7b-cd56-42f3-9b1b-d113d7944b9f",
   "metadata": {},
   "outputs": [],
   "source": [
    "\"\"\"Q9. Python supports the creation of anonymous functions at runtime, using a construct called\n",
    "   Python supports to make anonymous functions which are not bound to a name(@ runtime). It uses a \n",
    "   construct called \"lambda\"\"\"\""
   ]
  },
  {
   "cell_type": "code",
   "execution_count": null,
   "id": "01198f32-e1c5-4681-950a-91c43ac7a34d",
   "metadata": {},
   "outputs": [],
   "source": [
    "\"\"\"Q10. What does pip stand for python?\n",
    "   Pip is a recursive acronym that can stand for either \"Pip Installs Packages\" or \"Pip Installs Python\"\"\"\""
   ]
  },
  {
   "cell_type": "code",
   "execution_count": null,
   "id": "34fe9bab-779e-4ed6-a947-2bf9bb31bfdc",
   "metadata": {},
   "outputs": [],
   "source": [
    "\"\"\"Q11. Mention a few built-in functions in python?\n",
    "   Ans:Python Built-in Functions\n",
    "      print( ) function.\n",
    "      type( ) function.\n",
    "      input( ) function.\n",
    "      abs( ) function.\n",
    "      pow( ) function.\n",
    "      sorted( ) function.\n",
    "      max( ) function.\"\"\""
   ]
  },
  {
   "cell_type": "code",
   "execution_count": null,
   "id": "1203b709-52a9-4221-93ec-954262a7832f",
   "metadata": {},
   "outputs": [],
   "source": [
    "\"\"\"Q12. What is the maximum possible length of an identifier in Python?\n",
    "   Ans: An identifier can have a maximum length of 79 characters in Python"
   ]
  },
  {
   "cell_type": "code",
   "execution_count": null,
   "id": "66347808-b91f-4842-8e85-19c935c91713",
   "metadata": {},
   "outputs": [],
   "source": [
    "\"\"\"13. What are the benefits of using Python?\n",
    "   Ans:dvantages of Python\n",
    "       Simple to Use and Understand. For newcomers, Python is simple to understand and use. \n",
    "       Free and Open-Source. Video Player is loading.\n",
    "       Productivity has Increased. \n",
    "       Interpreted Language.\n",
    "       Extensive library.\n",
    "       Dynamically Typed.\n",
    "       Portability.\n",
    "       Supportive community\"\"\"\n"
   ]
  },
  {
   "cell_type": "code",
   "execution_count": null,
   "id": "7808cdf5-372b-4db5-877f-efee61ac2ab1",
   "metadata": {},
   "outputs": [],
   "source": [
    "\"\"\"Q14. How is memory managed in Python?\n",
    "   Ans: Memory management in Python involves the management of a private heap\"\"\"\n"
   ]
  },
  {
   "cell_type": "code",
   "execution_count": null,
   "id": "a1efa1eb-11f7-4f7c-b710-3eb44dec5098",
   "metadata": {},
   "outputs": [],
   "source": [
    "\"\"\"Q15. How to install Python on Windows and set path variables?\n",
    "   Ans:Right-clicking This PC and going to Properties.\n",
    "\n",
    "       Clicking on the Advanced system settings in the menu on the left.\n",
    "       \n",
    "       Clicking on the Environment Variables button on the bottom right.\n",
    "\n",
    "       In the System variables section, selecting the Path variable and clicking on Edit. The next screen will show all the directories that are currently a part of the PATH variable.\n",
    "\n",
    "       Clicking on New and entering Python’s install directory.\"\"\""
   ]
  },
  {
   "cell_type": "code",
   "execution_count": null,
   "id": "2dade779-993e-4cca-a018-3dbebec370cc",
   "metadata": {},
   "outputs": [],
   "source": [
    "Indentation is a very important concept of Python because without properly \n",
    "indenting the Python code,you will end up seeing IndentationError and the \n",
    "code will not get compiled\"\"\""
   ]
  }
 ],
 "metadata": {
  "kernelspec": {
   "display_name": "Python 3 (ipykernel)",
   "language": "python",
   "name": "python3"
  },
  "language_info": {
   "codemirror_mode": {
    "name": "ipython",
    "version": 3
   },
   "file_extension": ".py",
   "mimetype": "text/x-python",
   "name": "python",
   "nbconvert_exporter": "python",
   "pygments_lexer": "ipython3",
   "version": "3.10.6"
  }
 },
 "nbformat": 4,
 "nbformat_minor": 5
}
